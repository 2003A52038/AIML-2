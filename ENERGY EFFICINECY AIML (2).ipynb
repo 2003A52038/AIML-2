{
 "cells": [
  {
   "cell_type": "code",
   "execution_count": 6,
   "id": "b8b93c5b",
   "metadata": {},
   "outputs": [],
   "source": [
    "import pandas as pd"
   ]
  },
  {
   "cell_type": "code",
   "execution_count": 7,
   "id": "003892c8",
   "metadata": {},
   "outputs": [],
   "source": [
    "from sklearn.model_selection import train_test_split"
   ]
  },
  {
   "cell_type": "code",
   "execution_count": 9,
   "id": "8b976df2",
   "metadata": {},
   "outputs": [],
   "source": [
    "d=pd.read_excel('ENB2012_data (2).xlsx')"
   ]
  },
  {
   "cell_type": "code",
   "execution_count": 10,
   "id": "d1dd5581",
   "metadata": {},
   "outputs": [
    {
     "name": "stdout",
     "output_type": "stream",
     "text": [
      "     Realtive compactness  surface area  wall area  roof area  overall height  \\\n",
      "0                    0.98         514.5      294.0     110.25             7.0   \n",
      "1                    0.98         514.5      294.0     110.25             7.0   \n",
      "2                    0.98         514.5      294.0     110.25             7.0   \n",
      "3                    0.98         514.5      294.0     110.25             7.0   \n",
      "4                    0.90         563.5      318.5     122.50             7.0   \n",
      "..                    ...           ...        ...        ...             ...   \n",
      "763                  0.64         784.0      343.0     220.50             3.5   \n",
      "764                  0.62         808.5      367.5     220.50             3.5   \n",
      "765                  0.62         808.5      367.5     220.50             3.5   \n",
      "766                  0.62         808.5      367.5     220.50             3.5   \n",
      "767                  0.62         808.5      367.5     220.50             3.5   \n",
      "\n",
      "     orientation  glazing area  glazing area distribution  heating load  \\\n",
      "0              2           0.0                          0         15.55   \n",
      "1              3           0.0                          0         15.55   \n",
      "2              4           0.0                          0         15.55   \n",
      "3              5           0.0                          0         15.55   \n",
      "4              2           0.0                          0         20.84   \n",
      "..           ...           ...                        ...           ...   \n",
      "763            5           0.4                          5         17.88   \n",
      "764            2           0.4                          5         16.54   \n",
      "765            3           0.4                          5         16.44   \n",
      "766            4           0.4                          5         16.48   \n",
      "767            5           0.4                          5         16.64   \n",
      "\n",
      "     cooling load  \n",
      "0           21.33  \n",
      "1           21.33  \n",
      "2           21.33  \n",
      "3           21.33  \n",
      "4           28.28  \n",
      "..            ...  \n",
      "763         21.40  \n",
      "764         16.88  \n",
      "765         17.11  \n",
      "766         16.61  \n",
      "767         16.03  \n",
      "\n",
      "[768 rows x 10 columns]\n"
     ]
    }
   ],
   "source": [
    "print(d)"
   ]
  },
  {
   "cell_type": "code",
   "execution_count": 11,
   "id": "9d41dd2d",
   "metadata": {},
   "outputs": [],
   "source": [
    "x=d.iloc[:,0:9]\n",
    "y=d.iloc[:,9:10]\n",
    "x_train,x_test,y_train,y_test=train_test_split(x,y,random_state=True,test_size=0.20)"
   ]
  },
  {
   "cell_type": "code",
   "execution_count": 12,
   "id": "302357d2",
   "metadata": {},
   "outputs": [
    {
     "name": "stdout",
     "output_type": "stream",
     "text": [
      "     Realtive compactness  surface area  wall area  roof area  overall height  \\\n",
      "285                  0.62         808.5      367.5      220.5             3.5   \n",
      "101                  0.90         563.5      318.5      122.5             7.0   \n",
      "581                  0.90         563.5      318.5      122.5             7.0   \n",
      "352                  0.79         637.0      343.0      147.0             7.0   \n",
      "726                  0.90         563.5      318.5      122.5             7.0   \n",
      "..                    ...           ...        ...        ...             ...   \n",
      "563                  0.69         735.0      294.0      220.5             3.5   \n",
      "318                  0.71         710.5      269.5      220.5             3.5   \n",
      "154                  0.86         588.0      294.0      147.0             7.0   \n",
      "684                  0.82         612.5      318.5      147.0             7.0   \n",
      "643                  0.79         637.0      343.0      147.0             7.0   \n",
      "\n",
      "     orientation  glazing area  glazing area distribution  heating load  \n",
      "285            3          0.10                          5         12.74  \n",
      "101            3          0.10                          2         29.68  \n",
      "581            3          0.40                          2         36.57  \n",
      "352            2          0.25                          2         38.57  \n",
      "726            4          0.40                          5         34.72  \n",
      "..           ...           ...                        ...           ...  \n",
      "563            5          0.40                          1         14.42  \n",
      "318            4          0.25                          1         12.57  \n",
      "154            4          0.10                          3         26.89  \n",
      "684            2          0.40                          4         28.93  \n",
      "643            5          0.40                          3         42.08  \n",
      "\n",
      "[154 rows x 9 columns]\n"
     ]
    }
   ],
   "source": [
    "print(x_test)"
   ]
  },
  {
   "cell_type": "code",
   "execution_count": 22,
   "id": "36cc362e",
   "metadata": {},
   "outputs": [],
   "source": [
    "from sklearn.linear_model import LinearRegression\n",
    "from sklearn.metrics import accuracy_score\n",
    "from sklearn.metrics import mean_squared_error"
   ]
  },
  {
   "cell_type": "code",
   "execution_count": 19,
   "id": "8902fbc2",
   "metadata": {},
   "outputs": [],
   "source": [
    "lr=LinearRegression()"
   ]
  },
  {
   "cell_type": "code",
   "execution_count": 20,
   "id": "7db371bb",
   "metadata": {},
   "outputs": [],
   "source": [
    "lsr=lr.fit(x_train,y_train)"
   ]
  },
  {
   "cell_type": "code",
   "execution_count": 23,
   "id": "72695981",
   "metadata": {},
   "outputs": [],
   "source": [
    "yp=lsr.predict(x_test)"
   ]
  },
  {
   "cell_type": "code",
   "execution_count": 24,
   "id": "64808861",
   "metadata": {},
   "outputs": [
    {
     "name": "stdout",
     "output_type": "stream",
     "text": [
      "4.844128224246302\n"
     ]
    }
   ],
   "source": [
    "print(mean_squared_error(yp,y_test))"
   ]
  },
  {
   "cell_type": "code",
   "execution_count": 25,
   "id": "1b573b31",
   "metadata": {},
   "outputs": [
    {
     "name": "stdout",
     "output_type": "stream",
     "text": [
      "0.9479606448422166\n"
     ]
    }
   ],
   "source": [
    "print(lsr.score(x_test,y_test))"
   ]
  },
  {
   "cell_type": "code",
   "execution_count": 38,
   "id": "030d21e0",
   "metadata": {},
   "outputs": [
    {
     "name": "stdout",
     "output_type": "stream",
     "text": [
      "94.79606448422166\n"
     ]
    }
   ],
   "source": [
    "print(lsr.score(x_test,y_test)*100)"
   ]
  },
  {
   "cell_type": "code",
   "execution_count": 27,
   "id": "3d2a8821",
   "metadata": {},
   "outputs": [],
   "source": [
    "import matplotlib.pyplot as plt"
   ]
  },
  {
   "cell_type": "code",
   "execution_count": 35,
   "id": "7683099d",
   "metadata": {},
   "outputs": [
    {
     "name": "stdout",
     "output_type": "stream",
     "text": [
      "[27.58047687]\n"
     ]
    }
   ],
   "source": [
    "print(lsr.intercept_)"
   ]
  },
  {
   "cell_type": "code",
   "execution_count": 37,
   "id": "6634954b",
   "metadata": {},
   "outputs": [
    {
     "name": "stdout",
     "output_type": "stream",
     "text": [
      "[[-1.64920109e+01 -1.43763900e-02 -7.51616300e-03 -3.43011352e-03\n",
      "   6.56081339e-01  1.82060011e-01 -2.14027730e+00 -1.18343902e-01\n",
      "   8.51929438e-01]]\n"
     ]
    }
   ],
   "source": [
    "print(lsr.coef_)"
   ]
  },
  {
   "cell_type": "code",
   "execution_count": null,
   "id": "a5c7e670",
   "metadata": {},
   "outputs": [],
   "source": []
  }
 ],
 "metadata": {
  "kernelspec": {
   "display_name": "Python 3 (ipykernel)",
   "language": "python",
   "name": "python3"
  },
  "language_info": {
   "codemirror_mode": {
    "name": "ipython",
    "version": 3
   },
   "file_extension": ".py",
   "mimetype": "text/x-python",
   "name": "python",
   "nbconvert_exporter": "python",
   "pygments_lexer": "ipython3",
   "version": "3.9.7"
  }
 },
 "nbformat": 4,
 "nbformat_minor": 5
}
